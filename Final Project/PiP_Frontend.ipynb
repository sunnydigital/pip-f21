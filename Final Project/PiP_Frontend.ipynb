{
  "cells": [
    {
      "cell_type": "markdown",
      "metadata": {
        "id": "dwRhMwvqUTqn"
      },
      "source": [
        "# **Projects in Programming**\n",
        "\n",
        "Five Guys (Group 10) | Avnish, Denalia, Gilad, Sunny, Tamer"
      ]
    },
    {
      "cell_type": "markdown",
      "metadata": {
        "id": "-BNslo5rUixc"
      },
      "source": [
        "## **FEAST Dashboard** 🍔\n",
        "(Short for **F**inancial, **E**sg, **A**nd, **S**entimen**T**)\n",
        "\n",
        "Our tool offers investors and consumers a wholistic view into the performance of their two chosen companies with a unique mix of financial and non-financial metrics such as ESG scores and average media sentiment.\n",
        "\n",
        "**Link to write-up:** https://docs.google.com/document/d/1_z8jv8VvHJalH4esWmH0t6KVZFBjColucK5O8XBQ9dk/edit?usp=sharing"
      ]
    },
    {
      "cell_type": "markdown",
      "metadata": {
        "id": "dPUb4G_i3wmP"
      },
      "source": [
        "#### **Resources that we used:**\n",
        "- [AlphaVantage API](https://www.alphavantage.co/)\n",
        "- [Polygon](https://polygon.io/stocks?gclid=Cj0KCQiAk4aOBhCTARIsAFWFP9GZwyCs-OySfA2LHycK4qpeg7biyMmV3i1jCfdeKepwKkF_UDT-vMMaAmgoEALw_wcB)\n",
        "- [IBM Watson NLP API](https://www.ibm.com/cloud/watson-natural-language-understanding)\n",
        "- [NewsAPI](https://newsapi.org/)\n",
        "- [Indeed](https://www.indeed.com/)"
      ]
    },
    {
      "cell_type": "code",
      "execution_count": null,
      "metadata": {
        "id": "HRnB-HYGq2PZ"
      },
      "outputs": [],
      "source": [
        "!mkdir templates\n",
        "!mkdir static"
      ]
    },
    {
      "cell_type": "markdown",
      "metadata": {
        "id": "mQ_Qe_yMuRN1"
      },
      "source": [
        "#### **For a pretty dashboard,** please download this stylesheet from https://github.com/denaliazhi/projects-in-programming/blob/main/bootstrap.min.css and upload it into the static folder!\n",
        "\n",
        "Original source, Bootswatch: https://bootswatch.com/quartz/\n",
        "\n"
      ]
    },
    {
      "cell_type": "code",
      "execution_count": null,
      "metadata": {
        "colab": {
          "base_uri": "https://localhost:8080/"
        },
        "id": "m4wbW2LVyftR",
        "outputId": "b0cae0b8-9166-481b-80d4-8bcb33392f59"
      },
      "outputs": [
        {
          "name": "stdout",
          "output_type": "stream",
          "text": [
            "Mounted at /content/drive\n"
          ]
        }
      ],
      "source": [
        "from google.colab import drive\n",
        "drive.mount('/content/drive')"
      ]
    },
    {
      "cell_type": "markdown",
      "metadata": {
        "id": "HUlM1yxZ7H_x"
      },
      "source": [
        "# **CSS**"
      ]
    },
    {
      "cell_type": "code",
      "execution_count": null,
      "metadata": {
        "colab": {
          "base_uri": "https://localhost:8080/"
        },
        "id": "StLjpjA34tGl",
        "outputId": "f152d2c5-79b1-46ff-a2ed-7334332eb23d"
      },
      "outputs": [
        {
          "name": "stdout",
          "output_type": "stream",
          "text": [
            "Writing static/style.css\n"
          ]
        }
      ],
      "source": [
        "%%writefile static/style.css\n",
        "h1 {\n",
        "    font-family: 'Work Sans';    \n",
        "    font-size: 120px;\n",
        "    letter-spacing: 0.245em;\n",
        "}\n",
        "h2, h3, h4, h5, h6, p {\n",
        "    font-family: 'Poppins';\n",
        "}\n",
        "h2 {\n",
        "    font-family: 'Work Sans';    \n",
        "    font-size: 36px;\n",
        "    letter-spacing: 0.15em;\n",
        "}\n",
        "h3 {\n",
        "    font-weight: 300;\n",
        "    font-size: 24px;\n",
        "}\n",
        "h4 {\n",
        "    font-size: 18px;\n",
        "    font-weight: 600;    \n",
        "}\n",
        "h5 {\n",
        "    font-size: 14px;\n",
        "    font-weight: 500;\n",
        "}\n",
        "p {\n",
        "    font-size: 18px;\n",
        "    font-weight: 300;\n",
        "}\n",
        "body { \n",
        "    background-image: url(\"https://www.fiveguys.com/-/media/public-site/images/fg-menu-hero.ashx?h=866&w=1800&la=en-US&hash=54D08206303F229D37948EF635BE8636\");\n",
        "    background-position: top;\n",
        "    text-align: center;\n",
        "}\n",
        "#blurb {\n",
        "    margin-bottom: 50px;\n",
        "}\n",
        "button {\n",
        "    background: none;\n",
        "    color: inherit;\n",
        "    border: none;\n",
        "    padding: 0;\n",
        "    font: inherit;\n",
        "    cursor: pointer;\n",
        "    outline: inherit;\n",
        "}\n",
        "#submit-btn1, #submit-btn2 {\n",
        "    color: #A91220;\n",
        "    width: 20rem;\n",
        "    padding: 7px 0;\n",
        "    background: white;\n",
        "    border-radius: 30px;\n",
        "    text-align: center;\n",
        "}\n",
        "#submit-btn1 {\n",
        "    margin: 4rem auto;\n",
        "}\n",
        "#submit-btn2 {\n",
        "    margin: 2rem auto;\n",
        "}\n",
        "#submit-btn1:hover, #submit-btn2:hover {\n",
        "    color: white;\n",
        "    background: #d12c3b;\n",
        "}\n",
        "#glass-box {\n",
        "    width: 728px;\n",
        "    height: 160px;\n",
        "    background: rgba(255, 255, 255, 0.7);\n",
        "    border-radius: 20px;\n",
        "    padding: 30px 30px 0 30px;\n",
        "}\n",
        ".form-select {\n",
        "    color: grey;\n",
        "    background-color: white;\n",
        "    border-radius: 30px !important;\n",
        "}\n",
        ".vert-center {\n",
        "  margin: 0;\n",
        "  position: absolute;\n",
        "  top: 50%;\n",
        "  left: 50%;\n",
        "  transform: translate(-50%, -60%);\n",
        "}\n",
        "/*------Navbar-------*/\n",
        ".navbar {\n",
        "    padding-left: 3rem;\n",
        "}\n",
        ".menu-bar {\n",
        "    margin: 20px auto;\n",
        "}\n",
        "#selected-btn {\n",
        "    background-color: white;\n",
        "    color: #A91220;\n",
        "}\n",
        "a:link, a:visited, a:hover, a:active { \n",
        "    text-decoration: none; \n",
        "}\n",
        ".btn-secondary {\n",
        "    border-radius: 30px;\n",
        "    padding-left: 70px;\n",
        "    padding-right: 70px;\n",
        "}\n",
        "/*-----Overview-------*/\n",
        ".col-lg-4 {\n",
        "    margin: 50px auto;\n",
        "    width: 40%;\n",
        "}\n",
        "table, th, td {\n",
        "    text-align: left;\n",
        "    margin: 1.5rem 2.5rem;\n",
        "    padding: 10px 30px\n",
        "}\n",
        ".card-header {\n",
        "    padding: 1.6rem 2rem;\n",
        "}\n",
        ".card-body {\n",
        "    margin-top: 20px;\n",
        "}\n",
        "/*----Financial-----*/\n",
        ".form-control {\n",
        "    width: 40%;\n",
        "    margin: 1rem auto 2rem auto;\n",
        "}\n",
        "#form2 {\n",
        "    margin: 5rem 0 2rem 0;\n",
        "}\n",
        ".plot {\n",
        "    width: 90%;\n",
        "    margin: 2rem;\n",
        "}\n",
        "img {\n",
        "    border-radius: 10px;\n",
        "}"
      ]
    },
    {
      "cell_type": "markdown",
      "metadata": {
        "id": "i6ZY-Ny57KsN"
      },
      "source": [
        "# **HTML**"
      ]
    },
    {
      "cell_type": "markdown",
      "metadata": {
        "id": "JjlGgX5GWFOu"
      },
      "source": [
        "### **Boilerplate**"
      ]
    },
    {
      "cell_type": "code",
      "execution_count": null,
      "metadata": {
        "colab": {
          "base_uri": "https://localhost:8080/"
        },
        "id": "_QFtXY1RUlyO",
        "outputId": "314449e6-19aa-4d25-dfcf-6d2a2c733ba5"
      },
      "outputs": [
        {
          "name": "stdout",
          "output_type": "stream",
          "text": [
            "Writing templates/boiler.html\n"
          ]
        }
      ],
      "source": [
        "%%writefile templates/boiler.html\n",
        "<!DOCTYPE html>\n",
        "<html lang=\"en\">\n",
        "<head>\n",
        "    <title>F E A S T</title>\n",
        "    <link rel=\"icon\" type=\"image/x-icon\" href=\"https://emojis.wiki/emoji-pics/apple/hamburger-apple.png\">\n",
        "\n",
        "    <!-- STYLESHEETS -->\n",
        "    <link rel=\"preconnect\" href=\"https://fonts.googleapis.com\">\n",
        "    <link rel=\"preconnect\" href=\"https://fonts.gstatic.com\" crossorigin>\n",
        "    <link href=\"https://fonts.googleapis.com/css2?family=Poppins:wght@100;200;300;400;500;600&family=Work+Sans:wght@200;400;500;600;700&display=swap\" rel=\"stylesheet\">\n",
        "    <link rel=\"stylesheet\" href=\"{{ url_for('static', filename='bootstrap.min.css') }}\">\n",
        "    <link rel=\"stylesheet\" href=\"{{ url_for('static', filename='style.css') }}\">\n",
        "    <link rel=\"stylesheet\" href=\"https://cdn.jsdelivr.net/npm/@fortawesome/fontawesome-free@5.15.4/css/fontawesome.min.css\" integrity=\"sha384-jLKHWM3JRmfMU0A5x5AkjWkw/EYfGUAGagvnfryNV3F9VqM98XiIH7VBGVoxVSc7\" crossorigin=\"anonymous\">\n",
        "    \n",
        "</head>\n",
        "<body style=\"background-image: none; background-color: #A91220;\">\n",
        "  <nav class=\"navbar\">\n",
        "      <a class=\"navbar-brand\" href=\"/\"><h2>FEAST</h2></a>\n",
        "  </nav>\n",
        "  {% block main %}{% endblock %}\n",
        "</body>\n",
        "</html>"
      ]
    },
    {
      "cell_type": "markdown",
      "metadata": {
        "id": "rj5uqfhP7PdG"
      },
      "source": [
        "### **Home Page**"
      ]
    },
    {
      "cell_type": "code",
      "execution_count": null,
      "metadata": {
        "colab": {
          "base_uri": "https://localhost:8080/"
        },
        "id": "BaLmTsMPJeyG",
        "outputId": "7cd6fd2c-d7c3-436a-cf18-ca7569b37914"
      },
      "outputs": [
        {
          "name": "stdout",
          "output_type": "stream",
          "text": [
            "Writing templates/home.html\n"
          ]
        }
      ],
      "source": [
        "%%writefile templates/home.html\n",
        "<!DOCTYPE html>\n",
        "<html>\n",
        "<head>\n",
        "    <title>F E A S T</title>\n",
        "    <link rel=\"icon\" type=\"image/x-icon\" href=\"https://emojis.wiki/emoji-pics/apple/hamburger-apple.png\">\n",
        "\n",
        "    <!-- STYLESHEETS -->\n",
        "    <link rel=\"preconnect\" href=\"https://fonts.googleapis.com\">\n",
        "    <link rel=\"preconnect\" href=\"https://fonts.gstatic.com\" crossorigin>\n",
        "    <link href=\"https://fonts.googleapis.com/css2?family=Poppins:wght@100;200;300;400;500;600&family=Work+Sans:wght@200;400;500;600;700&display=swap\" rel=\"stylesheet\">\n",
        "    <link rel=\"stylesheet\" href=\"{{ url_for('static', filename='bootstrap.min.css') }}\">\n",
        "    <link rel=\"stylesheet\" href=\"{{ url_for('static', filename='style.css') }}\">\n",
        "    \n",
        "</head>\n",
        "<body>\n",
        "  <div class=\"vert-center\">\n",
        "        <div id=\"blurb\">\n",
        "          <h1>FEAST</h1>\n",
        "          <h3 style=\"letter-spacing: 0.045em;\"><span style=\"font-weight: 600\">F</span>inancial, \n",
        "              <span style=\"font-weight: 600\">E</span>sg, \n",
        "              <span style=\"font-weight: 600\">A</span>nd, \n",
        "              <span style=\"font-weight: 600\">S</span>entimen<span style=\"font-weight: 600\">T</span></h3>\n",
        "          <p>The dashboard for data-hungry investors</p>\n",
        "        </div>\n",
        "\n",
        "        <div id=\"glass-box\">\n",
        "\n",
        "          <h3 style=\"color: #A91220; font-weight: 600;\">Select two companies:</h3>\n",
        "          <form id=\"form1\" action=\"/\" method=\"post\">\n",
        "              <div class=\"row\">\n",
        "                  <div class=\"col form-group\">\n",
        "                    <select name=\"firstCompany\" class=\"form-select\" id=\"exampleSelect1\">\n",
        "                          <option disabled selected value=\"\">Company 1</option>\n",
        "                          {% for company in options %}\n",
        "                              <option value=\"{{ company }}\">{{ company }}</option>\n",
        "                          {% endfor %}\n",
        "                    </select>\n",
        "                  </div>\n",
        "                  <div class=\"col form-group\">\n",
        "                    <select name=\"secondCompany\" class=\"form-select\" id=\"exampleSelect1\">\n",
        "                          <option disabled selected value=\"\">Company 2</option>\n",
        "                          {% for company in options %}\n",
        "                              <option value=\"{{ company }}\">{{ company }}</option>\n",
        "                          {% endfor %}\n",
        "                    </select>\n",
        "                  </div>\n",
        "              </div>\n",
        "          </form>\n",
        "\n",
        "        <div id=\"submit-btn1\">\n",
        "          <button type=\"submit\" form=\"form1\" style=\"font-size: 20px; font-weight: 500; font-family: 'Poppins';\">View result</button>\n",
        "        </div>\n",
        "      </div>\n",
        "  </div>\n",
        "</body>"
      ]
    },
    {
      "cell_type": "markdown",
      "metadata": {
        "id": "cHwcO6TU7Za9"
      },
      "source": [
        "### **Company Overview**"
      ]
    },
    {
      "cell_type": "code",
      "execution_count": null,
      "metadata": {
        "cellView": "code",
        "colab": {
          "base_uri": "https://localhost:8080/"
        },
        "id": "0EN6EO8ATSKy",
        "outputId": "dd96415c-a0dd-4d70-936a-59149a97f0d2"
      },
      "outputs": [
        {
          "name": "stdout",
          "output_type": "stream",
          "text": [
            "Writing templates/overview.html\n"
          ]
        }
      ],
      "source": [
        "%%writefile templates/overview.html\n",
        "{% extends \"boiler.html\" %}\n",
        "{% block main %}\n",
        "\n",
        "<div class=\"menu-bar\">\n",
        "  <div class=\"btn-group me-2\">\n",
        "    <button type=\"button\" class=\"btn btn-secondary\" id=\"selected-btn\">Overview</button>\n",
        "  </div>\n",
        "  <div class=\"btn-group me-2\">\n",
        "    <a href=\"/financial\"><button type=\"button\" class=\"btn btn-secondary\">Financial / ESG</button></a>\n",
        "  </div>\n",
        "  <div class=\"btn-group me-2\">\n",
        "    <a href=\"/sentiment\"><button type=\"button\" class=\"btn btn-secondary\">Sentiment</button></a>\n",
        "  </div>\n",
        "</div>\n",
        "\n",
        "<div class=\"row\">\n",
        "    <div class=\"col-lg-1\"></div>\n",
        "    {% for k,i in choices.iterrows() %}\n",
        "    <div class=\"col-lg-4\">\n",
        "        <div class=\"card mb-3\">\n",
        "            <h3 class=\"card-header\">{{ i.Security }}</h3>\n",
        "            <table class=\"card-body\">\n",
        "              <tbody>\n",
        "                <tr>\n",
        "                  <td class=\"col-6\"><h4>Cooked up in {{ i.Founded }}</h4></td>\n",
        "                  <td class=\"col-6\"><h4>{{ i.hq_location }}</h4></td>\n",
        "                </tr> \n",
        "            </table>\n",
        "          </div>\n",
        "          <div class=\"card mb-3\">\n",
        "            <table class=\"card-body\">\n",
        "              <tbody>           \n",
        "                <tr>\n",
        "                  <th class=\"col-3\"><h4>About</h4></th>\n",
        "                  <td class=\"col-8\"><p>{{ i.Description }}</p></td>\n",
        "                </tr>\n",
        "                <tr>\n",
        "                  <th><h4>Sector</h4></th>\n",
        "                  <td><p>{{ i.Sector }}</p></td>\n",
        "                </tr>\n",
        "                <tr>\n",
        "                  <th><h4>Industry</h4></th>\n",
        "                  <td><p>{{ i.Sub_industry }}</p></td>\n",
        "                </tr>\n",
        "              </tbody>\n",
        "            </table>\n",
        "        </div>\n",
        "    </div>\n",
        "    {% endfor %}\n",
        "    <div class=\"col-lg-1\"></div>\n",
        "</div>\n",
        "\n",
        "{% endblock %}"
      ]
    },
    {
      "cell_type": "markdown",
      "metadata": {
        "id": "rsI7F2IbNrep"
      },
      "source": [
        "### **Financial / ESG**"
      ]
    },
    {
      "cell_type": "code",
      "execution_count": null,
      "metadata": {
        "cellView": "code",
        "colab": {
          "base_uri": "https://localhost:8080/"
        },
        "id": "_p4AaJQANt93",
        "outputId": "93c762b0-d2ee-421c-e805-011e399d9f60"
      },
      "outputs": [
        {
          "name": "stdout",
          "output_type": "stream",
          "text": [
            "Writing templates/financial.html\n"
          ]
        }
      ],
      "source": [
        "%%writefile templates/financial.html\n",
        "{% extends \"boiler.html\" %}\n",
        "{% block main %}\n",
        "\n",
        "<div class=\"menu-bar\">\n",
        "  <div class=\"btn-group me-2\">\n",
        "    <a href=\"/overview\"><button type=\"button\" class=\"btn btn-secondary\">Overview</button></a>\n",
        "  </div>\n",
        "  <div class=\"btn-group me-2\">\n",
        "    <button type=\"button\" class=\"btn btn-secondary\" id=\"selected-btn\">Financial / ESG</button>\n",
        "  </div>\n",
        "  <div class=\"btn-group me-2\">\n",
        "    <a href=\"/sentiment\"><button type=\"button\" class=\"btn btn-secondary\">Sentiment</button></a>\n",
        "  </div>\n",
        "</div>\n",
        "\n",
        "<div class=\"row\">\n",
        "    <div class=\"col-1\"></div>\n",
        "    {% for k,i in financials.iterrows() %}\n",
        "    <div class=\"col-lg-4\" style=\"margin-bottom: 0;\">\n",
        "        <div class=\"card mb-3\">\n",
        "            <h3 class=\"card-header\">{{ i.Security }}</h3>\n",
        "            <table class=\"card-body\">\n",
        "              <tbody>           \n",
        "                <tr>\n",
        "                  <th class=\"col-3\"><h4>Market Cap</h4></th>\n",
        "                  <td class=\"col-3\"><p>{{ i.MarketCap | int }}</p></td>\n",
        "                  <th class=\"col-3\"><h4>Beta</h4></th>\n",
        "                  <td class=\"col-3\"><p>{{  \"%.3f\" % (i.Beta | float) }}</p></td>\n",
        "                </tr>\n",
        "                <tr>\n",
        "                  <th class=\"col-3\"><h4>ROE</h4></th>\n",
        "                  <td class=\"col-3\"><p>{{ \"%.4f\" % (i.ROE | float) }}</p></td>\n",
        "                  <th class=\"col-3\"><h4>Profit Margin</h4></th>\n",
        "                  <td class=\"col-3\"><p>{{ \"%.4f\" % (i.ProfitMargin | float) }}</p></td>\n",
        "                </tr>\n",
        "                <tr>\n",
        "                  <th class=\"col-3\"><h4>PE Ratio</h4></th>\n",
        "                  <td class=\"col-3\"><p>{{ \"%.2f\" % (i.PERatio | float) }}</p></td>\n",
        "                  <th class=\"col-3\"><h4>EPS</h4></th>\n",
        "                  <td class=\"col-3\"><p>{{ \"%.3f\" % (i.EPS | float) }}</p></td>\n",
        "                </tr>\n",
        "              </tbody>\n",
        "            </table>\n",
        "        </div>\n",
        "    </div>\n",
        "    {% endfor %}\n",
        "    <div class=\"col-lg-1\"></div>\n",
        "</div>\n",
        "<div class=\"row\">  \n",
        "    <div class=\"col-lg-1\"></div>\n",
        "      {% for i in range(2) %}\n",
        "      <div class=\"col-lg-4 card\" style=\"margin-top: 0;\">\n",
        "        <h4 style=\"margin-top: 2rem;\">Nearest ESG Profile</h4>\n",
        "        <div>\n",
        "          <img src='data:image/png;base64,{{ eNN[i] }}' class=\"plot\"/>\n",
        "        </div>\n",
        "      </div>\n",
        "      {% endfor %}\n",
        "    <div class=\"col-lg-1\"></div>\n",
        "</div>\n",
        "<div class=\"row\">\n",
        "    <div class=\"card\" style=\"width: 77rem; margin: auto;\">\n",
        "      <h4 style=\"margin-top: 2rem;\">Company ESG Profile Compared to S&P 500</h4>\n",
        "      <div>\n",
        "        <img src='data:image/png;base64,{{ spESG }}' class=\"plot\"/>\n",
        "      </div>\n",
        "    </div>\n",
        "</div>\n",
        "<div class=\"row\">\n",
        "    <form class=\"form-group\" id=\"form2\" action=\"/financial\" method=\"post\">\n",
        "      <h4 style=\"font-weight: 600;\">Input an ESG component:</h4>\n",
        "      <input class=\"form-control\" name=\"ESGfactor\" placeholder=\"1 - Environment, 2 - Social, 3 - Governance\">\n",
        "      <div id=\"submit-btn2\">\n",
        "        <button type=\"submit\" form=\"form2\" style=\"font-size: 20px; font-weight: 500; font-family: 'Poppins';\">Generate models</button>\n",
        "      </div>\n",
        "    </form>\n",
        "</div>\n",
        "{% if display %}\n",
        "<div class=\"row\">\n",
        "    <div class=\"col-lg-1\"></div>\n",
        "      {% for i in range(2) %}\n",
        "      <div class=\"col-lg-4 card\" style=\"margin-top: 0;\">\n",
        "        <h4 class=\"card-header\">Summary of ESG-Fama French Model with\n",
        "          {% if chosenESG == '1' %} Environment \n",
        "          {% elif chosenESG == '2' %} Social \n",
        "          {% elif chosenESG == '3' %} Governance \n",
        "          {% endif %}Factor\n",
        "        </h4>\n",
        "        <div class=\"card-body\">\n",
        "          <img src='data:image/png;base64,{{ summary[i] }}'/>\n",
        "        </div>\n",
        "      </div>\n",
        "      {% endfor %}\n",
        "    <div class=\"col-lg-1\"></div>\n",
        "</div>\n",
        "<div class=\"row\">  \n",
        "    <div class=\"col-lg-1\"></div>\n",
        "      {% for i in range(2) %}\n",
        "      <div class=\"col-lg-4 card\" style=\"margin-top: 0;\">\n",
        "        <h4 class=\"card-header\">High Minus Low (HML) vs Expected Returns (RF) based on\n",
        "          {% if chosenESG == '1' %} Environment \n",
        "          {% elif chosenESG == '2' %} Social \n",
        "          {% elif chosenESG == '3' %} Governance \n",
        "          {% endif %}Factor of ESG\n",
        "        </h4>\n",
        "        <div class=\"card-body\">\n",
        "          <img src='data:image/png;base64,{{ HML[i] }}'/>\n",
        "        </div>\n",
        "      </div>\n",
        "      {% endfor %}\n",
        "    <div class=\"col-lg-1\"></div>\n",
        "</div>\n",
        "{% endif %}\n",
        "\n",
        "{% endblock %}"
      ]
    },
    {
      "cell_type": "markdown",
      "metadata": {
        "id": "gSqickdbOBsE"
      },
      "source": [
        "### **Sentiment**"
      ]
    },
    {
      "cell_type": "code",
      "execution_count": null,
      "metadata": {
        "cellView": "code",
        "colab": {
          "base_uri": "https://localhost:8080/"
        },
        "id": "VznBGJzXOBsE",
        "outputId": "f938c932-9316-45b2-bc61-a0cb80d1414e"
      },
      "outputs": [
        {
          "name": "stdout",
          "output_type": "stream",
          "text": [
            "Writing templates/sentiment.html\n"
          ]
        }
      ],
      "source": [
        "%%writefile templates/sentiment.html\n",
        "{% extends \"boiler.html\" %}\n",
        "{% block main %}\n",
        "\n",
        "<div class=\"menu-bar\">\n",
        "  <div class=\"btn-group me-2\">\n",
        "    <a href=\"/overview\"><button type=\"button\" class=\"btn btn-secondary\">Overview</button></a>\n",
        "  </div>\n",
        "  <div class=\"btn-group me-2\">\n",
        "    <a href=\"/financial\"><button type=\"button\" class=\"btn btn-secondary\">Financial / ESG</button></a>\n",
        "  </div>\n",
        "  <div class=\"btn-group me-2\">\n",
        "    <button type=\"button\" class=\"btn btn-secondary\" id=\"selected-btn\">Sentiment</button>\n",
        "  </div>\n",
        "</div>\n",
        "\n",
        "<div class=\"row\">\n",
        "    <div class=\"col-1\"></div>\n",
        "    {% for k in range(2) %}\n",
        "    <div class=\"col-lg-4\">\n",
        "        <div class=\"card mb-3\">\n",
        "            <h3 class=\"card-header\">{{ companies.iloc[k]['Security'] }}</h3>\n",
        "            <table class=\"card-body\">\n",
        "              <tbody>           \n",
        "                <tr>\n",
        "                  <th class=\"col-3\"><h4>Work Happiness</h4></th>\n",
        "                  <td class=\"col-3\">\n",
        "                    <p>{{ indeed['Happiness'][k] }}</p>\n",
        "                    <p>{{ indeed['Subheading'][k] }}</p>\n",
        "                  </td>\n",
        "                </tr>\n",
        "                <tr>\n",
        "                  <th class=\"col-3\"><h4>Employee Review</h4></th>\n",
        "                  <td class=\"col-3\">\n",
        "                    <p>{{ indeed['Review'][k] }}</p>\n",
        "                  </td>\n",
        "                </tr>                \n",
        "                <tr>\n",
        "                  <th class=\"col-3\"><h4>CEO Rating</h4></th>\n",
        "                  <td class=\"col-3\">\n",
        "                    <p>{{ indeed['CEO'][k] }}</p>\n",
        "                    <p>of employees approve</p>\n",
        "                  </td>\n",
        "                </tr>\n",
        "                <tr>\n",
        "                  <th class=\"col-3\"><h4>Media Sentiment</h4></th>\n",
        "                  <td class=\"col-3\">\n",
        "                    <p>{{ \"%.3f\" % (avgSent[k] | float) }}</p>\n",
        "                    <p>from {{ articles[k] }} articles</p>\n",
        "                  </td>\n",
        "                </tr>\n",
        "              </tbody>\n",
        "            </table>\n",
        "        </div>\n",
        "    </div>\n",
        "    {% endfor %}\n",
        "    <div class=\"col-lg-1\"></div>\n",
        "</div>\n",
        "<div class=\"row\">\n",
        "    <div class=\"card\" style=\"width: 77rem; margin: auto;\">\n",
        "      <h4 style=\"margin-top: 2rem;\">Company ESG Profile Compared to S&P 500</h4>\n",
        "      <div>\n",
        "        <img src='data:image/png;base64,{{ plot }}' class=\"plot\"/>\n",
        "      </div>\n",
        "    </div>\n",
        "</div>\n",
        "\n",
        "{% endblock %}"
      ]
    },
    {
      "cell_type": "markdown",
      "metadata": {
        "id": "PGtYu2hP7kVw"
      },
      "source": [
        "# **Python**"
      ]
    },
    {
      "cell_type": "markdown",
      "metadata": {
        "id": "njY2-6k-W1XD"
      },
      "source": [
        "### **Basic Setup**"
      ]
    },
    {
      "cell_type": "markdown",
      "metadata": {
        "id": "jQsVHhuDIdI3"
      },
      "source": [
        "#### Install"
      ]
    },
    {
      "cell_type": "code",
      "execution_count": null,
      "metadata": {
        "colab": {
          "base_uri": "https://localhost:8080/"
        },
        "id": "iPKNjmc1x0Bm",
        "outputId": "05e1204a-6cb0-4485-e2b0-a741adee2fda"
      },
      "outputs": [
        {
          "name": "stdout",
          "output_type": "stream",
          "text": [
            "Collecting flask==0.12.2\n",
            "  Downloading Flask-0.12.2-py2.py3-none-any.whl (83 kB)\n",
            "\u001b[?25l\r\u001b[K     |████                            | 10 kB 30.2 MB/s eta 0:00:01\r\u001b[K     |████████                        | 20 kB 33.2 MB/s eta 0:00:01\r\u001b[K     |███████████▉                    | 30 kB 14.2 MB/s eta 0:00:01\r\u001b[K     |███████████████▉                | 40 kB 11.1 MB/s eta 0:00:01\r\u001b[K     |███████████████████▊            | 51 kB 7.8 MB/s eta 0:00:01\r\u001b[K     |███████████████████████▊        | 61 kB 8.1 MB/s eta 0:00:01\r\u001b[K     |███████████████████████████▋    | 71 kB 7.7 MB/s eta 0:00:01\r\u001b[K     |███████████████████████████████▋| 81 kB 8.7 MB/s eta 0:00:01\r\u001b[K     |████████████████████████████████| 83 kB 1.5 MB/s \n",
            "\u001b[?25hRequirement already satisfied: click>=2.0 in /usr/local/lib/python3.7/dist-packages (from flask==0.12.2) (7.1.2)\n",
            "Requirement already satisfied: itsdangerous>=0.21 in /usr/local/lib/python3.7/dist-packages (from flask==0.12.2) (1.1.0)\n",
            "Requirement already satisfied: Jinja2>=2.4 in /usr/local/lib/python3.7/dist-packages (from flask==0.12.2) (2.11.3)\n",
            "Requirement already satisfied: Werkzeug>=0.7 in /usr/local/lib/python3.7/dist-packages (from flask==0.12.2) (1.0.1)\n",
            "Requirement already satisfied: MarkupSafe>=0.23 in /usr/local/lib/python3.7/dist-packages (from Jinja2>=2.4->flask==0.12.2) (2.0.1)\n",
            "Installing collected packages: flask\n",
            "  Attempting uninstall: flask\n",
            "    Found existing installation: Flask 1.1.4\n",
            "    Uninstalling Flask-1.1.4:\n",
            "      Successfully uninstalled Flask-1.1.4\n",
            "Successfully installed flask-0.12.2\n",
            "Collecting flask-ngrok\n",
            "  Downloading flask_ngrok-0.0.25-py3-none-any.whl (3.1 kB)\n",
            "Requirement already satisfied: requests in /usr/local/lib/python3.7/dist-packages (from flask-ngrok) (2.23.0)\n",
            "Requirement already satisfied: Flask>=0.8 in /usr/local/lib/python3.7/dist-packages (from flask-ngrok) (0.12.2)\n",
            "Requirement already satisfied: itsdangerous>=0.21 in /usr/local/lib/python3.7/dist-packages (from Flask>=0.8->flask-ngrok) (1.1.0)\n",
            "Requirement already satisfied: Werkzeug>=0.7 in /usr/local/lib/python3.7/dist-packages (from Flask>=0.8->flask-ngrok) (1.0.1)\n",
            "Requirement already satisfied: Jinja2>=2.4 in /usr/local/lib/python3.7/dist-packages (from Flask>=0.8->flask-ngrok) (2.11.3)\n",
            "Requirement already satisfied: click>=2.0 in /usr/local/lib/python3.7/dist-packages (from Flask>=0.8->flask-ngrok) (7.1.2)\n",
            "Requirement already satisfied: MarkupSafe>=0.23 in /usr/local/lib/python3.7/dist-packages (from Jinja2>=2.4->Flask>=0.8->flask-ngrok) (2.0.1)\n",
            "Requirement already satisfied: idna<3,>=2.5 in /usr/local/lib/python3.7/dist-packages (from requests->flask-ngrok) (2.10)\n",
            "Requirement already satisfied: urllib3!=1.25.0,!=1.25.1,<1.26,>=1.21.1 in /usr/local/lib/python3.7/dist-packages (from requests->flask-ngrok) (1.24.3)\n",
            "Requirement already satisfied: certifi>=2017.4.17 in /usr/local/lib/python3.7/dist-packages (from requests->flask-ngrok) (2021.10.8)\n",
            "Requirement already satisfied: chardet<4,>=3.0.2 in /usr/local/lib/python3.7/dist-packages (from requests->flask-ngrok) (3.0.4)\n",
            "Installing collected packages: flask-ngrok\n",
            "Successfully installed flask-ngrok-0.0.25\n",
            "Requirement already satisfied: Jinja2 in /usr/local/lib/python3.7/dist-packages (2.11.3)\n",
            "Requirement already satisfied: MarkupSafe>=0.23 in /usr/local/lib/python3.7/dist-packages (from Jinja2) (2.0.1)\n",
            "\u001b[K     |████████████████████████████████| 745 kB 8.4 MB/s \n",
            "\u001b[?25h  Building wheel for pyngrok (setup.py) ... \u001b[?25l\u001b[?25hdone\n",
            "Authtoken saved to configuration file: /root/.ngrok2/ngrok.yml\n"
          ]
        }
      ],
      "source": [
        "!pip install flask==0.12.2\n",
        "!pip install flask-ngrok\n",
        "!pip install Jinja2\n",
        "\n",
        "!pip install -q pyngrok\n",
        "!ngrok authtoken 226xVWLWpXSdGAa0Lcuf0lWkeUW_5bYAwhj9vGoVW3jAnrFBN"
      ]
    },
    {
      "cell_type": "code",
      "execution_count": null,
      "metadata": {
        "id": "N-yHI8pk6wUz"
      },
      "outputs": [],
      "source": [
        "!sudo apt-get install python3-dev libmysqlclient-dev > /dev/null\n",
        "!pip install mysqlclient > /dev/null\n",
        "!sudo pip3 install -U sql_magic > /dev/null\n",
        "!pip install psycopg2-binary > /dev/null"
      ]
    },
    {
      "cell_type": "code",
      "execution_count": null,
      "metadata": {
        "colab": {
          "base_uri": "https://localhost:8080/"
        },
        "id": "ebAUsW2HFMoy",
        "outputId": "b520d214-66b2-466c-9971-2ff51e28d303"
      },
      "outputs": [
        {
          "name": "stdout",
          "output_type": "stream",
          "text": [
            "Requirement already satisfied: pandas_datareader in /usr/local/lib/python3.7/dist-packages (0.9.0)\n",
            "Collecting pandas_datareader\n",
            "  Downloading pandas_datareader-0.10.0-py3-none-any.whl (109 kB)\n",
            "\u001b[K     |████████████████████████████████| 109 kB 8.5 MB/s \n",
            "\u001b[?25hRequirement already satisfied: requests>=2.19.0 in /usr/local/lib/python3.7/dist-packages (from pandas_datareader) (2.23.0)\n",
            "Requirement already satisfied: pandas>=0.23 in /usr/local/lib/python3.7/dist-packages (from pandas_datareader) (1.1.5)\n",
            "Requirement already satisfied: lxml in /usr/local/lib/python3.7/dist-packages (from pandas_datareader) (4.2.6)\n",
            "Requirement already satisfied: numpy>=1.15.4 in /usr/local/lib/python3.7/dist-packages (from pandas>=0.23->pandas_datareader) (1.19.5)\n",
            "Requirement already satisfied: python-dateutil>=2.7.3 in /usr/local/lib/python3.7/dist-packages (from pandas>=0.23->pandas_datareader) (2.8.2)\n",
            "Requirement already satisfied: pytz>=2017.2 in /usr/local/lib/python3.7/dist-packages (from pandas>=0.23->pandas_datareader) (2018.9)\n",
            "Requirement already satisfied: six>=1.5 in /usr/local/lib/python3.7/dist-packages (from python-dateutil>=2.7.3->pandas>=0.23->pandas_datareader) (1.15.0)\n",
            "Requirement already satisfied: certifi>=2017.4.17 in /usr/local/lib/python3.7/dist-packages (from requests>=2.19.0->pandas_datareader) (2021.10.8)\n",
            "Requirement already satisfied: idna<3,>=2.5 in /usr/local/lib/python3.7/dist-packages (from requests>=2.19.0->pandas_datareader) (2.10)\n",
            "Requirement already satisfied: urllib3!=1.25.0,!=1.25.1,<1.26,>=1.21.1 in /usr/local/lib/python3.7/dist-packages (from requests>=2.19.0->pandas_datareader) (1.24.3)\n",
            "Requirement already satisfied: chardet<4,>=3.0.2 in /usr/local/lib/python3.7/dist-packages (from requests>=2.19.0->pandas_datareader) (3.0.4)\n",
            "Installing collected packages: pandas-datareader\n",
            "  Attempting uninstall: pandas-datareader\n",
            "    Found existing installation: pandas-datareader 0.9.0\n",
            "    Uninstalling pandas-datareader-0.9.0:\n",
            "      Successfully uninstalled pandas-datareader-0.9.0\n",
            "Successfully installed pandas-datareader-0.10.0\n"
          ]
        }
      ],
      "source": [
        "!pip install pandas_datareader --upgrade"
      ]
    },
    {
      "cell_type": "markdown",
      "metadata": {
        "id": "h9yOn7QxIfr1"
      },
      "source": [
        "#### Import"
      ]
    },
    {
      "cell_type": "code",
      "execution_count": null,
      "metadata": {
        "id": "uZK5ggYB7wGC"
      },
      "outputs": [],
      "source": [
        "from sqlalchemy import create_engine\n",
        "\n",
        "conn_string = 'mysql://{user}:{password}@{host}:{port}/{db}?charset=utf8'.format(\n",
        "    user='fiveguys', \n",
        "    password='PjwWc8fMC4k=', \n",
        "    host = 'jsedocc7.scrc.nyu.edu', \n",
        "    port=3306, \n",
        "    db='FiveGuys',\n",
        "    encoding = 'utf-8'\n",
        ")\n",
        "engine = create_engine(conn_string)\n",
        "connection = engine.connect()"
      ]
    },
    {
      "cell_type": "code",
      "execution_count": null,
      "metadata": {
        "colab": {
          "base_uri": "https://localhost:8080/"
        },
        "id": "VvMYQpzTFSyM",
        "outputId": "032a2316-0181-4e41-f475-ffd7eb1bcba2"
      },
      "outputs": [
        {
          "name": "stderr",
          "output_type": "stream",
          "text": [
            "/usr/local/lib/python3.7/dist-packages/statsmodels/tools/_testing.py:19: FutureWarning: pandas.util.testing is deprecated. Use the functions in the public API at pandas.testing instead.\n",
            "  import pandas.util.testing as tm\n"
          ]
        }
      ],
      "source": [
        "from collections import defaultdict\n",
        "\n",
        "import pandas_datareader.data as reader\n",
        "import pandas as pd\n",
        "import matplotlib.pyplot as plt\n",
        "from sklearn.neighbors import NearestNeighbors as nn\n",
        "import numpy as np\n",
        "\n",
        "import statsmodels.api as sm\n",
        "import statsmodels.formula.api as smf\n",
        "\n",
        "from tqdm import tqdm\n",
        "\n",
        "import datetime as dt\n",
        "import time\n",
        "\n",
        "import requests\n",
        "from bs4 import BeautifulSoup\n",
        "import json\n",
        "\n",
        "import os"
      ]
    },
    {
      "cell_type": "code",
      "execution_count": null,
      "metadata": {
        "id": "dMu29KVoxuQ3"
      },
      "outputs": [],
      "source": [
        "from flask import Flask, render_template, redirect, request, send_file\n",
        "from flask_ngrok import run_with_ngrok"
      ]
    },
    {
      "cell_type": "code",
      "execution_count": null,
      "metadata": {
        "id": "tT5tFOutDNjR"
      },
      "outputs": [],
      "source": [
        "# for converting plots to images\n",
        "import base64\n",
        "from io import BytesIO"
      ]
    },
    {
      "cell_type": "code",
      "execution_count": null,
      "metadata": {
        "id": "Wa_vuXgKjw93"
      },
      "outputs": [],
      "source": [
        "headers = {\n",
        "    'User=Agent': 'denaliabot',\n",
        "    'From': 'daz271@nyu.edu'\n",
        "}"
      ]
    },
    {
      "cell_type": "markdown",
      "metadata": {
        "id": "q5wRKQRMW6fu"
      },
      "source": [
        "### **Application**"
      ]
    },
    {
      "cell_type": "code",
      "execution_count": null,
      "metadata": {
        "id": "mm1-gzY5geYg"
      },
      "outputs": [],
      "source": [
        "app = Flask(__name__, template_folder = '/content/templates', static_folder = '/content/static')\n",
        "run_with_ngrok(app)\n",
        "\n",
        "c = []\n",
        "choice = None\n",
        "factor = None\n",
        "\n",
        "histESG_Dict = None\n",
        "sector_dict = None\n",
        "sector_med_split = None\n",
        "sectorHML = None\n",
        "final_dict = None"
      ]
    },
    {
      "cell_type": "markdown",
      "metadata": {
        "id": "1pBjO6PqggnF"
      },
      "source": [
        "#### Home Page"
      ]
    },
    {
      "cell_type": "code",
      "execution_count": null,
      "metadata": {
        "id": "t4VCcutxxkBA"
      },
      "outputs": [],
      "source": [
        "# User chooses two companies from a drop down menu\n",
        "@app.route(\"/\", methods = [\"GET\", \"POST\"])\n",
        "def home():\n",
        "  if request.method == \"POST\":\n",
        "    # Get user's choices\n",
        "    c.append(request.form.get('firstCompany'))\n",
        "    c.append(request.form.get('secondCompany'))\n",
        "    return redirect(\"/overview\")\n",
        "  else:\n",
        "    # Get all 500 S&P companies to display in the dropdown\n",
        "    query = \"SELECT Symbol FROM sp_industry\"\n",
        "    options = pd.read_sql(query, con=engine)['Symbol']\n",
        "    return render_template('home.html', options = options)"
      ]
    },
    {
      "cell_type": "markdown",
      "metadata": {
        "id": "GB6jB8kxgvxM"
      },
      "source": [
        "#### Company Overview"
      ]
    },
    {
      "cell_type": "code",
      "execution_count": null,
      "metadata": {
        "id": "ifP6dYaVguPd"
      },
      "outputs": [],
      "source": [
        "# Overview of the chosen companies\n",
        "@app.route(\"/overview\")\n",
        "def overview():\n",
        "  # Retrieve basic data on each company from database\n",
        "  query = f'''SELECT sp_industry.Symbol, Security, sp_industry.Sector, Sub_industry, hq_location, Founded, Description \n",
        "              FROM AV_financials \n",
        "              INNER JOIN sp_industry ON AV_financials.Symbol = sp_industry.Symbol \n",
        "              WHERE sp_industry.Symbol = '{c[0]}' OR sp_industry.Symbol = '{c[1]}'\n",
        "              ORDER BY sp_industry.Symbol\n",
        "  '''\n",
        "  companies = pd.read_sql(query, con=engine)\n",
        "  return render_template('overview.html', choices = companies) \n"
      ]
    },
    {
      "cell_type": "markdown",
      "metadata": {
        "id": "O_1irPyIg1st"
      },
      "source": [
        "#### Financials / ESG"
      ]
    },
    {
      "cell_type": "code",
      "execution_count": null,
      "metadata": {
        "id": "Oa4sjhOQg4E7"
      },
      "outputs": [],
      "source": [
        "@app.route(\"/financial\", methods = [\"GET\", \"POST\"])\n",
        "def financial():\n",
        "\n",
        "  # Retrieve financial data for each company from database\n",
        "  query = f'''SELECT * \n",
        "              FROM AV_financials \n",
        "              INNER JOIN sp_industry ON AV_financials.Symbol = sp_industry.Symbol \n",
        "              WHERE sp_industry.Symbol = '{c[0]}' OR sp_industry.Symbol = '{c[1]}'\n",
        "              ORDER BY sp_industry.Symbol\n",
        "           '''\n",
        "  financials = pd.read_sql(query, con=engine)\n",
        "\n",
        "  query = \"SELECT * FROM sp_combined\"\n",
        "  sp_combined = pd.read_sql(query, con=engine)\n",
        "\n",
        "  # -----------ESG vs S&P 500 VISUALIZATION-----------\n",
        "  # Plots both chosen companies ESG profiles against ESG profiles of all other S&P 500 companies\n",
        "  knn_DF = sp_combined[['Symbol', 'socialScore', 'environmentScore', 'governanceScore']]\n",
        "  target_ESG1 = knn_DF[(knn_DF['Symbol'] == sorted(c)[0])]\n",
        "  target_ESG2 = knn_DF[(knn_DF['Symbol'] == sorted(c)[1])]\n",
        "\n",
        "  # --------------------------------------------------- \n",
        "  symbol1 = target_ESG1.iloc[0,0]\n",
        "  symbol2 = target_ESG2.iloc[0,0]\n",
        "  name1 = sp_combined[(sp_combined['Symbol']==symbol1)].iloc[0,1]\n",
        "  name2 = sp_combined[(sp_combined['Symbol']==symbol2)].iloc[0,1]\n",
        "\n",
        "  spESG = plotSP(knn_DF, name1, name2, target_ESG1, target_ESG2)\n",
        "\n",
        "  # -----------------eNN VISUALIZATION-----------------\n",
        "  eNN = []\n",
        "\n",
        "  # Builds off of variables in ESG vs S&P 500 section above\n",
        "  # For each chosen company, identifies the company in the S&P 500 with the most similar ESG profile\n",
        "  # ------------------- Company 1 -------------------\n",
        "  samples = sp_combined.loc[(sp_combined['Symbol'] != symbol1), ['environmentScore', 'socialScore', 'governanceScore']]\n",
        "  neigh = nn(n_neighbors=1)\n",
        "  neigh.fit(samples)\n",
        "\n",
        "  ret_arr = neigh.kneighbors(sp_combined.loc[(sp_combined['Symbol'] == symbol1), ['environmentScore', 'socialScore', 'governanceScore']])[1][0][0]\n",
        "\n",
        "  # Finds the ESG scores associated with the array index 'ret_arr'\n",
        "  comp_ESG1 = samples.iloc[[ret_arr]] \n",
        "\n",
        "   # Finds the symbol associated with the given array in sp_combined_\n",
        "  comp_ESG_symbol = pd.merge(comp_ESG1, sp_combined, on=['environmentScore', 'socialScore', 'governanceScore'], how='inner')[['Symbol']]\n",
        "  \n",
        "  # Name associated with symbol\n",
        "  compname1 = sp_combined[(sp_combined['Symbol']==comp_ESG_symbol.iloc[0,0])].iloc[0,1]\n",
        "\n",
        "  eNN.append(plotENN(knn_DF, name1, compname1, target_ESG1, comp_ESG1))\n",
        "\n",
        "  # ------------------- Company 2 -------------------\n",
        "  # Same process as for company 1\n",
        "  samples = sp_combined.loc[(sp_combined['Symbol'] != symbol2), ['environmentScore', 'socialScore', 'governanceScore']]\n",
        "  neigh = nn(n_neighbors=1)\n",
        "  neigh.fit(samples)\n",
        "\n",
        "  ret_arr = neigh.kneighbors(sp_combined.loc[(sp_combined['Symbol'] == symbol2), ['environmentScore', 'socialScore', 'governanceScore']])[1][0][0]\n",
        "  \n",
        "  comp_ESG2 = samples.iloc[[ret_arr]] \n",
        "\n",
        "  comp_ESG_symbol = pd.merge(comp_ESG2, sp_combined, on=['environmentScore', 'socialScore', 'governanceScore'], how='inner')[['Symbol']]\n",
        "\n",
        "  compname2 = sp_combined[(sp_combined['Symbol']==comp_ESG_symbol.iloc[0,0])].iloc[0,1]\n",
        "\n",
        "  eNN.append(plotENN(knn_DF, name2, compname2, target_ESG2, comp_ESG2))\n",
        "\n",
        "  # ---------------------- FAMA FRENCH CODE START ---------------------\n",
        "  if request.method == \"POST\":\n",
        "\n",
        "    query = \"SELECT * FROM sp_data\"\n",
        "    sp_data = pd.read_sql(query, con=engine)\n",
        "\n",
        "    # Creates a list of symbols to iterate through\n",
        "    symbols = list(sp_data['Symbol'])\n",
        "\n",
        "    # Breaks up symbols into chunks as to better run creation of dictionary\n",
        "    symbols_divided = {}\n",
        "    for i in range(0, len(symbols), 50):\n",
        "      symbols_divided[\"symbol%s\" %i] = symbols[i:i+50]\n",
        "\n",
        "    # ---------------------------------------------------\n",
        "    query = \"SELECT DISTINCT Symbol FROM histESG_DF\"\n",
        "    symbols = list(pd.read_sql(query, con=engine)['Symbol'])\n",
        " \n",
        "    global histESG_Dict\n",
        "    histESG_Dict = {}\n",
        "    for symbol in tqdm(symbols):\n",
        "      query = f\"SELECT * FROM histESG_DF WHERE Symbol = '{symbol}'\"\n",
        "      histESG_Dict[symbol] = pd.read_sql(query, con=engine).drop(columns=['False', 'timestamp'])\n",
        "\n",
        "    # ---------------------------------------------------\n",
        "    ## To filter out the Industries given in the S&P 500 by sector\n",
        "    ## Group by 'bags' of industries\n",
        "\n",
        "    industries = sp_combined['Industry']\n",
        "    industries = industries.unique()\n",
        "\n",
        "    global sector_dict\n",
        "    sector_dict = getSectorDict(industries, sp_combined)\n",
        "\n",
        "    # ---------------------------------------------------\n",
        "    # Get user choice\n",
        "    chosenESG = request.form['ESGfactor'] \n",
        "    getChoice(chosenESG)\n",
        "\n",
        "    global sector_med_split\n",
        "    # Iterates, through each sector, return two lists per sector\n",
        "    sector_med_split = getMedSplit(choice, sector_dict)  \n",
        "\n",
        "    global sectorHML\n",
        "    sectorHML = getSectorHML(choice, sector_med_split, histESG_Dict)\n",
        "\n",
        "    # ---------------------------------------------------\n",
        "    query = \"SELECT * FROM factors\"\n",
        "    factors = pd.read_sql(query, con=engine)\n",
        "\n",
        "    global final_dict\n",
        "    final_dict = getFinalDict(sectorHML, factors)\n",
        "    \n",
        "    sector_map = defaultdict(list)\n",
        "    for col, row in sp_combined.iterrows():\n",
        "      sector_map[row['Symbol']] = row['Industry']    \n",
        "\n",
        "    # ---------------------------------------------------\n",
        "    query = \"SELECT * FROM fundsret_mtl_final\"\n",
        "    fundsret_mtl_final = pd.read_sql(query, con=engine)\n",
        "\n",
        "    # ----------------LINEAR REGRESSION------------------\n",
        "\n",
        "    summaryStats = []\n",
        "    HML = []\n",
        "    # loop through both company choices\n",
        "    for symbol in c:\n",
        "      ticker = symbol\n",
        "      industry = sector_map[ticker]\n",
        "\n",
        "      # Defines the X and y for each industry\n",
        "      X = final_dict[industry][0][['Mkt-RF', 'SMB', 'HML', 'esgHML']] \n",
        "      y = pd.DataFrame(fundsret_mtl_final[ticker] - final_dict[industry][0].loc[:,'RF'], columns=[f'{ticker}-RF']) \n",
        "\n",
        "      # ---------------------------------------------------\n",
        "      model = sm.OLS(y, sm.add_constant(X))\n",
        "      results = model.fit()\n",
        "      summaryStats.append(plotResult(results))\n",
        "\n",
        "      # ---------------------------------------------------    \n",
        "      # Plot for highMinusLow vs Expected Return - RF\n",
        "      HML.append(plotHighLow(X, y, results)) \n",
        "\n",
        "    display = True\n",
        "    return render_template('financial.html', financials = financials, chosenESG = chosenESG, display = display, summary = summaryStats, HML = HML, spESG = spESG, eNN = eNN)\n",
        "  else:\n",
        "    display = False\n",
        "    return render_template('financial.html', financials = financials, display = display, spESG = spESG, eNN = eNN)"
      ]
    },
    {
      "cell_type": "markdown",
      "metadata": {
        "id": "I4BmDGDC3AQh"
      },
      "source": [
        "##### Financials - supporting functions"
      ]
    },
    {
      "cell_type": "code",
      "execution_count": null,
      "metadata": {
        "id": "bd-LamV8TFpK"
      },
      "outputs": [],
      "source": [
        "def getChoice(chosenESG):\n",
        "  global choice  \n",
        "  if chosenESG == '1':\n",
        "    choice = 'environmentScore'\n",
        "  elif chosenESG == '2':\n",
        "    choice = 'socialScore'\n",
        "  elif chosenESG == '3':\n",
        "    choice = 'governanceScore'"
      ]
    },
    {
      "cell_type": "code",
      "execution_count": null,
      "metadata": {
        "id": "KkRL4TFXtnnx"
      },
      "outputs": [],
      "source": [
        "def getSectorDict(industries, df):\n",
        "  sector_dict = defaultdict(list) \n",
        "  for industry in industries:\n",
        "    for col, row in df.iterrows():\n",
        "      if row['Industry'] == industry:\n",
        "        \n",
        "        temp = {}\n",
        "        temp['Symbol'] = row['Symbol']\n",
        "        temp['governanceScore'] = row['governanceScore']\n",
        "        temp['environmentScore'] = row['environmentScore']\n",
        "        temp['socialScore'] = row['socialScore']\n",
        "\n",
        "        sector_dict[industry].append(temp)\n",
        "  return sector_dict"
      ]
    },
    {
      "cell_type": "code",
      "execution_count": null,
      "metadata": {
        "id": "excuwBEFmTQg"
      },
      "outputs": [],
      "source": [
        "def getMedSplit(choicef, sector_dict):\n",
        "    # Iterates through each sector, returns two lists per sector\n",
        "    sector_med_split = defaultdict(list)\n",
        "    for sector, value in sector_dict.items():\n",
        "\n",
        "      temp = []\n",
        "      for i in range(len(sector_dict[sector])):\n",
        "\n",
        "        symbol = sector_dict[sector][i]['Symbol']\n",
        "\n",
        "        environment = sector_dict[sector][i]['environmentScore']\n",
        "        social = sector_dict[sector][i]['socialScore']\n",
        "        governance = sector_dict[sector][i]['governanceScore']\n",
        "        \n",
        "        global factor\n",
        "        if choicef == 'governanceScore':\n",
        "          factor = governance\n",
        "        elif choicef == 'socialScore':\n",
        "          factor = social\n",
        "        elif choicef == 'environmentScore':\n",
        "          factor = environment\n",
        "        \n",
        "        temp.append([symbol, factor])\n",
        "\n",
        "      temp = np.array(temp)\n",
        "      tickers = temp[:,0]\n",
        "      values = temp[:,1].astype(np.float)\n",
        "      absolute_dict = defaultdict(list)\n",
        "\n",
        "      less_than = []\n",
        "      greater_than = []\n",
        "      median = np.median(values)\n",
        "      for i in range(len(values)):\n",
        "        if values[i] < median:\n",
        "          less_than.append(tickers[i])\n",
        "        else:\n",
        "          greater_than.append(tickers[i])\n",
        "      \n",
        "      absolute_dict['Greater'] = greater_than\n",
        "      absolute_dict['Less'] = less_than\n",
        "      sector_med_split[sector].append(absolute_dict)\n",
        "\n",
        "    return sector_med_split "
      ]
    },
    {
      "cell_type": "code",
      "execution_count": null,
      "metadata": {
        "id": "VPI7uFjlvJvf"
      },
      "outputs": [],
      "source": [
        "def getSectorHML(choicef, sector_med_split, histESG_Dict):\n",
        "    sectorHML = defaultdict(list)\n",
        "    for key, value in sector_med_split.items():\n",
        "      try:\n",
        "        high_DF = pd.DataFrame([])\n",
        "        for symbol in sector_med_split[key][0]['Greater']:\n",
        "\n",
        "          choice_score_DF = histESG_Dict[symbol][choicef].reset_index()\n",
        "          choice_score_DF = choice_score_DF.rename(columns={choicef: symbol})\n",
        "          choice_score_DF = choice_score_DF[symbol]\n",
        "          high_DF = pd.concat([high_DF, choice_score_DF], axis=1)\n",
        "\n",
        "          mean_HDF = high_DF.mean(axis=1)\n",
        "\n",
        "        low_DF = pd.DataFrame([])\n",
        "        for symbol in sector_med_split[key][0]['Less']:\n",
        "\n",
        "          choice_score_DF = histESG_Dict[symbol][choicef].reset_index()\n",
        "          choice_score_DF = choice_score_DF.rename(columns={choicef: symbol})\n",
        "\n",
        "          choice_score_DF = choice_score_DF[symbol]\n",
        "          low_DF = pd.concat([low_DF, choice_score_DF], axis=1)\n",
        "\n",
        "          mean_LDF = low_DF.mean(axis=1)\n",
        "      \n",
        "      except:\n",
        "        continue\n",
        "\n",
        "      highMinusLow = (mean_HDF - mean_LDF).pct_change()\n",
        "      sectorHML[key] = highMinusLow.tail(12).reset_index().drop('index', axis=1).rename(columns={0: 'esgHML'})\n",
        "    return sectorHML"
      ]
    },
    {
      "cell_type": "code",
      "execution_count": null,
      "metadata": {
        "id": "93Am7lbos9KS"
      },
      "outputs": [],
      "source": [
        "def getFinalDict(sectorHML, factors):\n",
        "  final_dict = defaultdict(list)\n",
        "  for industry, value in sectorHML.items():\n",
        "    \n",
        "    HML = sectorHML[industry]\n",
        "\n",
        "    HML.index = factors.index\n",
        "    final_DF = pd.concat([factors, HML], axis=1)\n",
        "    final_dict[industry].append(final_DF)\n",
        "  return final_dict"
      ]
    },
    {
      "cell_type": "code",
      "execution_count": null,
      "metadata": {
        "id": "npqz88lwJV9U"
      },
      "outputs": [],
      "source": [
        "def plotResult(results):\n",
        "    fig = plt.figure(figsize=(7,6))\n",
        "    plt.text(0.01, 0.05, str(results.summary()), {'fontsize': 10}, fontproperties = 'monospace') \n",
        "    plt.axis('off')\n",
        "    plt.tight_layout()\n",
        "\n",
        "    # Save it to a temporary buffer.\n",
        "    buf = BytesIO()\n",
        "    fig.savefig(buf, format=\"png\")\n",
        "    # Embed the result in the html output.\n",
        "    data = base64.b64encode(buf.getbuffer()).decode(\"ascii\") \n",
        "    plt.close()\n",
        "\n",
        "    return data"
      ]
    },
    {
      "cell_type": "code",
      "execution_count": null,
      "metadata": {
        "id": "4NtYBaIrJEvy"
      },
      "outputs": [],
      "source": [
        "def plotENN(knn, name1, compname1, targetESG, compESG): \n",
        "    fig = plt.figure()\n",
        "    ax = fig.add_subplot(projection='3d')\n",
        "\n",
        "    ax.scatter(knn.loc[:,'socialScore'],knn.loc[:,'environmentScore'], knn.loc[:,'governanceScore'])\n",
        "    ax.scatter(targetESG['socialScore'], targetESG['environmentScore'], targetESG['governanceScore'], c='r', label=f'Company 1: {name1}', s=100)\n",
        "    ax.scatter(compESG['socialScore'], compESG['environmentScore'], compESG['governanceScore'], c='g', label=f'Company 2: {compname1}', s=100)\n",
        "\n",
        "    ax.legend(loc='best')\n",
        "    ax.set_xlabel('Social Risk')\n",
        "    ax.set_ylabel('Environmental Risk')\n",
        "    ax.set_zlabel('Governance Risk')\n",
        "    \n",
        "    plt.tight_layout()\n",
        "\n",
        "    # Save it to a temporary buffer.\n",
        "    buf = BytesIO()\n",
        "    fig.savefig(buf, format=\"png\")\n",
        "    # Embed the result in the html output.\n",
        "    data = base64.b64encode(buf.getbuffer()).decode(\"ascii\") \n",
        "    plt.close()\n",
        "\n",
        "    return data"
      ]
    },
    {
      "cell_type": "code",
      "execution_count": null,
      "metadata": {
        "id": "HS_kPxey8v9u"
      },
      "outputs": [],
      "source": [
        "def plotHighLow(X, y, results):\n",
        "  fig = plt.figure()\n",
        "  for i in range(X.shape[1]):\n",
        "\n",
        "    const = results.params[0]\n",
        "    coef = results.params[i+1]\n",
        "\n",
        "    x_axis = np.linspace(-0.35, 0.35, 500)\n",
        "    y_axis = const + coef * x_axis\n",
        "\n",
        "    plt.subplot(2,2,i+1)\n",
        "\n",
        "    plt.title(f'{y.columns[0]} Returns vs. {X.columns[i]}')\n",
        "\n",
        "    plt.xlabel(X.columns[i], fontsize=8)\n",
        "    plt.ylabel(y.columns[0], fontsize=8)\n",
        "\n",
        "    plt.scatter(X.iloc[:,i],y)\n",
        "    plt.plot(x_axis,y_axis,c='r')\n",
        "\n",
        "    plt.tight_layout()\n",
        "\n",
        "  # Save it to a temporary buffer.\n",
        "  buf = BytesIO()\n",
        "  fig.savefig(buf, format=\"png\")\n",
        "  # Embed the result in the html output.\n",
        "  data = base64.b64encode(buf.getbuffer()).decode(\"ascii\") \n",
        "  plt.close()\n",
        "\n",
        "  return data"
      ]
    },
    {
      "cell_type": "code",
      "execution_count": null,
      "metadata": {
        "id": "2y5_OgPpkWRs"
      },
      "outputs": [],
      "source": [
        "def plotSP(knn, name1, name2, targetESG1, targetESG2):\n",
        "  fig = plt.figure()\n",
        "  ax = fig.add_subplot(111, projection='3d')\n",
        "\n",
        "  ax.scatter(knn.loc[:,'socialScore'],knn.loc[:,'environmentScore'], knn.loc[:,'governanceScore'])\n",
        "  ax.scatter(targetESG1['socialScore'], targetESG1['environmentScore'], targetESG1['governanceScore'], c='r', label=f'Company 1: {name1}', s=100)\n",
        "  ax.scatter(targetESG2['socialScore'], targetESG2['environmentScore'], targetESG2['governanceScore'], c='b', label=f'Company 2: {name2}', s=100)\n",
        "\n",
        "  ax.legend(loc='best')\n",
        "  ax.set_xlabel('Social Risk')\n",
        "  ax.set_ylabel('Environmental Risk')\n",
        "  ax.set_zlabel('Governance Risk')\n",
        "\n",
        "  plt.tight_layout()\n",
        "\n",
        "  # Save it to a temporary buffer.\n",
        "  buf = BytesIO()\n",
        "  fig.savefig(buf, format=\"png\")\n",
        "  # Embed the result in the html output.\n",
        "  data = base64.b64encode(buf.getbuffer()).decode(\"ascii\") \n",
        "  plt.close()\n",
        "\n",
        "  return data  "
      ]
    },
    {
      "cell_type": "markdown",
      "metadata": {
        "id": "2nBUCH2dg7J9"
      },
      "source": [
        "#### Sentiment"
      ]
    },
    {
      "cell_type": "code",
      "execution_count": null,
      "metadata": {
        "id": "VvjCJyIkg80x"
      },
      "outputs": [],
      "source": [
        "@app.route(\"/sentiment\")\n",
        "def sentiment():\n",
        "  query = f'''SELECT Symbol, Security\n",
        "              FROM sp_industry\n",
        "              WHERE Symbol = '{c[0]}' OR sp_industry.Symbol = '{c[1]}'\n",
        "              ORDER BY sp_industry.Symbol\n",
        "            '''  \n",
        "  companies = pd.read_sql(query, con=engine)\n",
        "\n",
        "  articles = []\n",
        "  avgSent = []\n",
        "  compNames = []\n",
        "\n",
        "  # ----- INDEED WEB SCRAPING https://www.indeed.com ----------\n",
        "  # Employee work happiness score, review score, and CEO rating for company\n",
        "  indeed = {\n",
        "      'Happiness': [],\n",
        "      'Subheading': [],\n",
        "      'Review': [],\n",
        "      'CEO': []\n",
        "  }\n",
        "  for k,i in companies.iterrows():\n",
        "    compNames.append(i.Security)\n",
        "    url = \"https://www.indeed.com/cmp/\" + i.Security\n",
        "    resp = requests.get(url, headers=headers)\n",
        "    # If page retrieved successfully from Indeed:\n",
        "    if resp.status_code == 200:\n",
        "      soup = BeautifulSoup(resp.text)\n",
        "      # Get work happiness score\n",
        "      happiness = soup.find(\"div\", class_=\"css-zlzlxd eu4oa1w0\").text\n",
        "      subhead = soup.find_all(\"span\", class_=\"css-1cxc9zk e1wnkr790\")[1].text\n",
        "      # Get employee review score\n",
        "      try:\n",
        "        review = soup.find_all(\"span\", class_=\"css-1vlfpkl e1wnkr790\")[1].text\n",
        "      except:\n",
        "        review = \"N/A\"\n",
        "      # Get CEO approval rating\n",
        "      ceo = soup.find(\"span\", class_=\"css-4oitjw e1wnkr790\").text\n",
        "      # Append all to a list\n",
        "      indeed['Happiness'].append(happiness)\n",
        "      indeed['Subheading'].append(subhead)\n",
        "      indeed['Review'].append(review)\n",
        "      indeed['CEO'].append(ceo)\n",
        "\n",
        "  #-------------------MEDIA SENTIMENT -------------------------\n",
        "    # Compute average media sentiment for company (supporting functions are in subsequent code blocks)\n",
        "    urls = get_url(i.Security)\n",
        "    avg, count = meanSent(urls, i.Security)\n",
        "    avgSent.append(avg)\n",
        "    articles.append(count)\n",
        "\n",
        "  #---------------------VISUALIZING SENTIMENT-------------------\n",
        "  # Read in our list of benchmark companies and plot along with average sentiment of the two chosen companies\n",
        "  benchmark = pd.read_csv('https://raw.githubusercontent.com/denaliazhi/projects-in-programming/main/SentBenchmark.csv')\n",
        "  sentPlot = plotSent(compNames, avgSent, benchmark)\n",
        "\n",
        "  return render_template('sentiment.html', companies = companies, indeed = indeed, avgSent = avgSent, articles = articles, plot = sentPlot)"
      ]
    },
    {
      "cell_type": "code",
      "execution_count": null,
      "metadata": {
        "id": "m46m1it6pLoe"
      },
      "outputs": [],
      "source": [
        "def get_url(search_term):\n",
        "  urls=[]\n",
        "\n",
        "  endpoint_watson = \" https://newsapi.org/v2/everything?apiKey=346cd4d3edf140089bdcf44d34797539\"\n",
        "  parameters =  {\n",
        "      'q': search_term\n",
        "    }  \n",
        "  resp = requests.get(endpoint_watson,params=parameters)\n",
        "  resp=resp.json()\n",
        "\n",
        "  # Append all urls that match the search_term in a list called urls\n",
        "  for i in resp['articles']:\n",
        "    urls.append(i['url'])\n",
        "    \n",
        "  return urls"
      ]
    },
    {
      "cell_type": "code",
      "execution_count": null,
      "metadata": {
        "id": "uMcKbfWGo0FF"
      },
      "outputs": [],
      "source": [
        "def sentiment(url, companyName):\n",
        "    endpoint_watson = \"https://api.us-east.natural-language-understanding.watson.cloud.ibm.com/instances/7a71440e-97ce-4d12-9355-2a4dab4abdb7/v1/analyze\"\n",
        "    params = {\n",
        "        'version': '2021-08-01'\n",
        "    }\n",
        "    headers = { \n",
        "        'Content-Type': 'application/json'\n",
        "    }\n",
        "    watson_options = {\n",
        "      \"url\": url,\n",
        "      \"features\": {\n",
        "        \"entities\": {\n",
        "          \"sentiment\": True,\n",
        "          \"emotion\": False,\n",
        "          \"limit\": 10\n",
        "        }\n",
        "      }\n",
        "    }\n",
        "    username = \"apikey\"\n",
        "    password = \"j2cgK1KUNKiXPjrR5aAmRoVwmkKmKrf68mvCC0xly-54\"\n",
        "    \n",
        "    resp = requests.post(endpoint_watson, \n",
        "                         data=json.dumps(watson_options), \n",
        "                         headers=headers, \n",
        "                         params=params, \n",
        "                         auth=(username, password) \n",
        "                        )\n",
        "    \n",
        "    print(resp.status_code) # Progress marker\n",
        "    content = resp.json()\n",
        "\n",
        "    # For each entity identified by IBM Watson API\n",
        "    for entity in content['entities']:\n",
        "\n",
        "      try:\n",
        "        # If there is one that matches the company's name, return the sentiment score\n",
        "        if companyName in entity['text']:\n",
        "            print(entity['sentiment']['score'])\n",
        "            return entity['sentiment']['score']\n",
        "      except:\n",
        "        return null"
      ]
    },
    {
      "cell_type": "code",
      "execution_count": null,
      "metadata": {
        "id": "MLb6nkt8qvrQ"
      },
      "outputs": [],
      "source": [
        "def meanSent(links, company):\n",
        "  sum = 0\n",
        "  counter = 0\n",
        "  for link in links:\n",
        "    try:\n",
        "      sum += sentiment(link, company)\n",
        "      counter +=1\n",
        "    except:\n",
        "      continue\n",
        "  if counter > 0:\n",
        "    return sum/counter, counter\n",
        "  else:\n",
        "    return 0, counter"
      ]
    },
    {
      "cell_type": "code",
      "execution_count": null,
      "metadata": {
        "id": "wAf2RJl5y6yL"
      },
      "outputs": [],
      "source": [
        "def plotSent(companies, companyScores, benchmark):\n",
        "  # Scores for entire industry\n",
        "  y = benchmark['Sentiment'].mean()\n",
        "\n",
        "  # Scores for first company\n",
        "  z = companyScores[0]\n",
        "\n",
        "  # Scores for second company\n",
        "  k = companyScores[1]\n",
        "\n",
        "  # Plot all three sets of data\n",
        "  fig, ax = plt.subplots()\n",
        "  sent1 = plt.axhline(y=y, color='r', linestyle='-',  label = \"Industry Average\")\n",
        "  sent2 = plt.axhline(y=z, color='y', linestyle='-',  label = companies[0])\n",
        "  sent3 = plt.axhline(y=k, color='c', linestyle='-',  label = companies[1])\n",
        "\n",
        "  # Formatting\n",
        "  plt.title(\"Company Sentiment Compared to Industry Average\")\n",
        "  plt.grid(color='lightgrey', linewidth=0.5)\n",
        "\n",
        "  plt.legend([sent1, sent2, sent3], [\"Industry Average\", companies[0], companies[1]])\n",
        "\n",
        "  # Save it to a temporary buffer.\n",
        "  buf = BytesIO()\n",
        "  fig.savefig(buf, format=\"png\")\n",
        "  # Embed the result in the html output.\n",
        "  data = base64.b64encode(buf.getbuffer()).decode(\"ascii\") \n",
        "  plt.close()\n",
        "\n",
        "  return data\n"
      ]
    },
    {
      "cell_type": "markdown",
      "metadata": {
        "id": "xTZfd8dKg_Ci"
      },
      "source": [
        "### **Run App**"
      ]
    },
    {
      "cell_type": "code",
      "execution_count": null,
      "metadata": {
        "colab": {
          "background_save": true,
          "base_uri": "https://localhost:8080/"
        },
        "id": "uRSdqzJfgZpQ",
        "outputId": "3228afbc-a33b-41a4-e32b-51efc18458f7"
      },
      "outputs": [
        {
          "name": "stderr",
          "output_type": "stream",
          "text": [
            " * Running on http://127.0.0.1:5000/ (Press CTRL+C to quit)\n",
            "Exception in thread Thread-13:\n",
            "Traceback (most recent call last):\n",
            "  File \"/usr/local/lib/python3.7/dist-packages/urllib3/connection.py\", line 159, in _new_conn\n",
            "    (self._dns_host, self.port), self.timeout, **extra_kw)\n",
            "  File \"/usr/local/lib/python3.7/dist-packages/urllib3/util/connection.py\", line 80, in create_connection\n",
            "    raise err\n",
            "  File \"/usr/local/lib/python3.7/dist-packages/urllib3/util/connection.py\", line 70, in create_connection\n",
            "    sock.connect(sa)\n",
            "ConnectionRefusedError: [Errno 111] Connection refused\n",
            "\n",
            "During handling of the above exception, another exception occurred:\n",
            "\n",
            "Traceback (most recent call last):\n",
            "  File \"/usr/local/lib/python3.7/dist-packages/urllib3/connectionpool.py\", line 600, in urlopen\n",
            "    chunked=chunked)\n",
            "  File \"/usr/local/lib/python3.7/dist-packages/urllib3/connectionpool.py\", line 354, in _make_request\n",
            "    conn.request(method, url, **httplib_request_kw)\n",
            "  File \"/usr/lib/python3.7/http/client.py\", line 1281, in request\n",
            "    self._send_request(method, url, body, headers, encode_chunked)\n",
            "  File \"/usr/lib/python3.7/http/client.py\", line 1327, in _send_request\n",
            "    self.endheaders(body, encode_chunked=encode_chunked)\n",
            "  File \"/usr/lib/python3.7/http/client.py\", line 1276, in endheaders\n",
            "    self._send_output(message_body, encode_chunked=encode_chunked)\n",
            "  File \"/usr/lib/python3.7/http/client.py\", line 1036, in _send_output\n",
            "    self.send(msg)\n",
            "  File \"/usr/lib/python3.7/http/client.py\", line 976, in send\n",
            "    self.connect()\n",
            "  File \"/usr/local/lib/python3.7/dist-packages/urllib3/connection.py\", line 181, in connect\n",
            "    conn = self._new_conn()\n",
            "  File \"/usr/local/lib/python3.7/dist-packages/urllib3/connection.py\", line 168, in _new_conn\n",
            "    self, \"Failed to establish a new connection: %s\" % e)\n",
            "urllib3.exceptions.NewConnectionError: <urllib3.connection.HTTPConnection object at 0x7fe6baf36310>: Failed to establish a new connection: [Errno 111] Connection refused\n",
            "\n",
            "During handling of the above exception, another exception occurred:\n",
            "\n",
            "Traceback (most recent call last):\n",
            "  File \"/usr/local/lib/python3.7/dist-packages/requests/adapters.py\", line 449, in send\n",
            "    timeout=timeout\n",
            "  File \"/usr/local/lib/python3.7/dist-packages/urllib3/connectionpool.py\", line 638, in urlopen\n",
            "    _stacktrace=sys.exc_info()[2])\n",
            "  File \"/usr/local/lib/python3.7/dist-packages/urllib3/util/retry.py\", line 399, in increment\n",
            "    raise MaxRetryError(_pool, url, error or ResponseError(cause))\n",
            "urllib3.exceptions.MaxRetryError: HTTPConnectionPool(host='localhost', port=4040): Max retries exceeded with url: /api/tunnels (Caused by NewConnectionError('<urllib3.connection.HTTPConnection object at 0x7fe6baf36310>: Failed to establish a new connection: [Errno 111] Connection refused'))\n",
            "\n",
            "During handling of the above exception, another exception occurred:\n",
            "\n",
            "Traceback (most recent call last):\n",
            "  File \"/usr/lib/python3.7/threading.py\", line 926, in _bootstrap_inner\n",
            "    self.run()\n",
            "  File \"/usr/lib/python3.7/threading.py\", line 1177, in run\n",
            "    self.function(*self.args, **self.kwargs)\n",
            "  File \"/usr/local/lib/python3.7/dist-packages/flask_ngrok.py\", line 70, in start_ngrok\n",
            "    ngrok_address = _run_ngrok()\n",
            "  File \"/usr/local/lib/python3.7/dist-packages/flask_ngrok.py\", line 35, in _run_ngrok\n",
            "    tunnel_url = requests.get(localhost_url).text  # Get the tunnel information\n",
            "  File \"/usr/local/lib/python3.7/dist-packages/requests/api.py\", line 76, in get\n",
            "    return request('get', url, params=params, **kwargs)\n",
            "  File \"/usr/local/lib/python3.7/dist-packages/requests/api.py\", line 61, in request\n",
            "    return session.request(method=method, url=url, **kwargs)\n",
            "  File \"/usr/local/lib/python3.7/dist-packages/requests/sessions.py\", line 530, in request\n",
            "    resp = self.send(prep, **send_kwargs)\n",
            "  File \"/usr/local/lib/python3.7/dist-packages/requests/sessions.py\", line 643, in send\n",
            "    r = adapter.send(request, **kwargs)\n",
            "  File \"/usr/local/lib/python3.7/dist-packages/requests/adapters.py\", line 516, in send\n",
            "    raise ConnectionError(e, request=request)\n",
            "requests.exceptions.ConnectionError: HTTPConnectionPool(host='localhost', port=4040): Max retries exceeded with url: /api/tunnels (Caused by NewConnectionError('<urllib3.connection.HTTPConnection object at 0x7fe6baf36310>: Failed to establish a new connection: [Errno 111] Connection refused'))\n",
            "\n"
          ]
        }
      ],
      "source": [
        "app.run()"
      ]
    }
  ],
  "metadata": {
    "colab": {
      "collapsed_sections": [
        "HUlM1yxZ7H_x",
        "JjlGgX5GWFOu",
        "rj5uqfhP7PdG",
        "cHwcO6TU7Za9",
        "gSqickdbOBsE",
        "njY2-6k-W1XD",
        "jQsVHhuDIdI3"
      ],
      "provenance": []
    },
    "kernelspec": {
      "display_name": "Python 3",
      "name": "python3"
    },
    "language_info": {
      "name": "python"
    }
  },
  "nbformat": 4,
  "nbformat_minor": 0
}